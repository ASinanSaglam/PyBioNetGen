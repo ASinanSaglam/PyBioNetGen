{
 "cells": [
  {
   "cell_type": "markdown",
   "source": [
    "# Library Tutorial - bngmodel"
   ],
   "metadata": {}
  },
  {
   "cell_type": "markdown",
   "source": [
    "This tutorial shows how to use PyBioNetGen's library to create a BNGL model object and manipulate it, using the simple \"SIR.bngl\" model."
   ],
   "metadata": {}
  },
  {
   "cell_type": "markdown",
   "source": [
    "Before using the library, it must be imported."
   ],
   "metadata": {}
  },
  {
   "cell_type": "code",
   "execution_count": null,
   "source": [
    "import bionetgen"
   ],
   "outputs": [],
   "metadata": {}
  },
  {
   "cell_type": "markdown",
   "source": [
    "## Creating and Viewing a `bngmodel` Object"
   ],
   "metadata": {}
  },
  {
   "cell_type": "markdown",
   "source": [
    "Use the `bngmodel` method to create a Python representation of a BNGL model."
   ],
   "metadata": {}
  },
  {
   "cell_type": "code",
   "execution_count": null,
   "source": [
    "model = bionetgen.bngmodel(\"SIR.bngl\")"
   ],
   "outputs": [],
   "metadata": {}
  },
  {
   "cell_type": "markdown",
   "source": [
    "To view the model, you can `print()` the entire BNGL model, or just certain blocks of the model."
   ],
   "metadata": {}
  },
  {
   "cell_type": "code",
   "execution_count": null,
   "source": [
    "print(model)"
   ],
   "outputs": [],
   "metadata": {}
  },
  {
   "cell_type": "code",
   "execution_count": null,
   "source": [
    "print(model.parameters)"
   ],
   "outputs": [],
   "metadata": {}
  },
  {
   "cell_type": "code",
   "execution_count": null,
   "source": [
    "print(model.observables)"
   ],
   "outputs": [],
   "metadata": {}
  },
  {
   "cell_type": "markdown",
   "source": [
    "## Manipulating a `bngmodel` Object"
   ],
   "metadata": {}
  }
 ],
 "metadata": {
  "orig_nbformat": 4,
  "language_info": {
   "name": "python",
   "version": "3.9.6",
   "mimetype": "text/x-python",
   "codemirror_mode": {
    "name": "ipython",
    "version": 3
   },
   "pygments_lexer": "ipython3",
   "nbconvert_exporter": "python",
   "file_extension": ".py"
  },
  "kernelspec": {
   "name": "python3",
   "display_name": "Python 3.9.6 64-bit"
  },
  "interpreter": {
   "hash": "6bba631cc0264899f23e4fbc56f7f77a55083f26c9c701f823877dba3aa5a922"
  }
 },
 "nbformat": 4,
 "nbformat_minor": 2
}