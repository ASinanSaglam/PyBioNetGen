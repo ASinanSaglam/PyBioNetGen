{
 "cells": [
  {
   "cell_type": "markdown",
   "source": [
    "# Library Tutorial - Running and Plotting"
   ],
   "metadata": {}
  },
  {
   "cell_type": "markdown",
   "source": [
    "This tutorial shows show to use PyBioNetGen's library to run a simple BNGL model and plot the results, using the simple \"SIR.bngl\" model."
   ],
   "metadata": {}
  },
  {
   "cell_type": "markdown",
   "source": [
    "Before using the library, it must be imported."
   ],
   "metadata": {}
  },
  {
   "cell_type": "code",
   "execution_count": 1,
   "source": [
    "import bionetgen"
   ],
   "outputs": [],
   "metadata": {}
  },
  {
   "cell_type": "markdown",
   "source": [
    "## Running a Model"
   ],
   "metadata": {}
  },
  {
   "cell_type": "markdown",
   "source": [
    "The `run` method can be used to simply run a BNGL model."
   ],
   "metadata": {}
  },
  {
   "cell_type": "code",
   "execution_count": 2,
   "source": [
    "result = bionetgen.run(\"SIR.bngl\")"
   ],
   "outputs": [
    {
     "output_type": "stream",
     "name": "stdout",
     "text": [
      "BioNetGen version 2.6.0\n",
      "Reading from file c:\\Users\\cjarm\\Documentation\\PyBioNetGen\\docs\\source\\assets\\SIR.bngl (level 0)\n",
      "Read 5 parameters.\n",
      "Read 2 species.\n",
      "Read 3 observable(s).\n",
      "Read 2 reaction rule(s).\n",
      "ACTION: generate_network( SIR )\n",
      "Iteration   0:     2 species      0 rxns  0.00e+00 CPU s\n",
      "Iteration   1:     3 species      2 rxns  0.00e+00 CPU s\n",
      "Iteration   2:     3 species      2 rxns  0.00e+00 CPU s\n",
      "Cumulative CPU time for each rule\n",
      "Rule   1:     1 reactions 0.00e+00 CPU s 0.00e+00 CPU s/rxn\n",
      "Rule   2:     1 reactions 0.00e+00 CPU s 0.00e+00 CPU s/rxn\n",
      "Total   :     2 reactions 0.00e+00 CPU s 0.00e+00 CPU s/rxn\n",
      "Wrote network in net format to SIR.net.\n",
      "CPU TIME: generate_network 0.00 s.\n",
      "ACTION: simulate( method=>\"cvode\" )\n",
      "Network simulation using cvode\n",
      "WARNING: writeFile(): Overwriting existing file SIR.net.\n",
      "Wrote network in net format to SIR.net.\n",
      "Running run_network on DESKTOP-CKHAV0T\n",
      "full command: C:\\Users\\cjarm\\AppData\\Local\\Programs\\Python\\Python39\\lib\\site-packages\\bionetgen\\bng-win\\bin\\run_network.exe -o SIR -p cvode -a 1e-08 -r 1e-08 --cdat 1 --fdat 0 -g SIR.net SIR.net 0.15 200\n"
     ]
    }
   ],
   "metadata": {}
  },
  {
   "cell_type": "markdown",
   "source": [
    "Optionally, the results can be saved in a new or existing folder."
   ],
   "metadata": {}
  },
  {
   "cell_type": "code",
   "execution_count": null,
   "source": [
    "result = bionetgen.run(\"SIR.bngl\", out = \"SIR_folder\")"
   ],
   "outputs": [],
   "metadata": {}
  },
  {
   "cell_type": "markdown",
   "source": [
    "To view the resulting gdat record array of the model, use the `gdats` attribute:"
   ],
   "metadata": {}
  },
  {
   "cell_type": "code",
   "execution_count": null,
   "source": [
    "result.gdats[\"SIR\"][:10]"
   ],
   "outputs": [],
   "metadata": {}
  },
  {
   "cell_type": "markdown",
   "source": [
    "Alternatively, you can use the index of the `result` object to get the gdat values:"
   ],
   "metadata": {}
  },
  {
   "cell_type": "code",
   "execution_count": null,
   "source": [
    "result[0][:10]"
   ],
   "outputs": [],
   "metadata": {}
  },
  {
   "cell_type": "markdown",
   "source": [
    "Similarly, to view the resulting cdat record array of the model, use the `cdats` attribute:"
   ],
   "metadata": {}
  },
  {
   "cell_type": "code",
   "execution_count": null,
   "source": [
    "result.cdats[\"SIR\"][:10]"
   ],
   "outputs": [],
   "metadata": {}
  },
  {
   "cell_type": "markdown",
   "source": [
    "## Plotting Results"
   ],
   "metadata": {}
  },
  {
   "cell_type": "markdown",
   "source": [
    "To plot the gdat record array, matplotlib will be needed:"
   ],
   "metadata": {}
  },
  {
   "cell_type": "code",
   "execution_count": null,
   "source": [
    "import matplotlib.pyplot as plt"
   ],
   "outputs": [],
   "metadata": {}
  },
  {
   "cell_type": "markdown",
   "source": [
    "For accessibility, save the gdat record array as its own object. Then, the values can be plotted."
   ],
   "metadata": {}
  },
  {
   "cell_type": "code",
   "execution_count": null,
   "source": [
    "r = result[0]\r\n",
    "\r\n",
    "for name in r.dtype.names:\r\n",
    "    if name != \"time\":\r\n",
    "        plt.plot(r['time'], r[name], label = name)\r\n",
    "plt.xlabel(\"time\")\r\n",
    "plt.ylabel(\"species (counts)\")\r\n",
    "_ = plt.legend(frameon = False)"
   ],
   "outputs": [],
   "metadata": {}
  }
 ],
 "metadata": {
  "orig_nbformat": 4,
  "language_info": {
   "name": "python",
   "version": "3.9.6",
   "mimetype": "text/x-python",
   "codemirror_mode": {
    "name": "ipython",
    "version": 3
   },
   "pygments_lexer": "ipython3",
   "nbconvert_exporter": "python",
   "file_extension": ".py"
  },
  "kernelspec": {
   "name": "python3",
   "display_name": "Python 3.9.6 64-bit"
  },
  "interpreter": {
   "hash": "6bba631cc0264899f23e4fbc56f7f77a55083f26c9c701f823877dba3aa5a922"
  }
 },
 "nbformat": 4,
 "nbformat_minor": 2
}