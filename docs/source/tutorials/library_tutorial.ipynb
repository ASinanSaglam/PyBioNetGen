{
 "cells": [
  {
   "cell_type": "markdown",
   "source": [
    "# Library Tutorial - Running and Plotting"
   ],
   "metadata": {}
  },
  {
   "cell_type": "markdown",
   "source": [
    "This tutorial shows show to use PyBioNetGen's library to run a simple BNGL model and plot the results, using the simple \"SIR.bngl\" model."
   ],
   "metadata": {}
  },
  {
   "cell_type": "markdown",
   "source": [
    "Before using the library, it must be imported."
   ],
   "metadata": {}
  },
  {
   "cell_type": "code",
   "execution_count": null,
   "source": [
    "import bionetgen"
   ],
   "outputs": [],
   "metadata": {}
  },
  {
   "cell_type": "markdown",
   "source": [
    "## Running a Model"
   ],
   "metadata": {}
  },
  {
   "cell_type": "markdown",
   "source": [
    "The `run` method can be used to simply run a BNGL model."
   ],
   "metadata": {}
  },
  {
   "cell_type": "code",
   "execution_count": null,
   "source": [
    "result = bionetgen.run(\"SIR.bngl\")"
   ],
   "outputs": [],
   "metadata": {}
  },
  {
   "cell_type": "markdown",
   "source": [
    "Optionally, the results can be saved in a new or existing folder."
   ],
   "metadata": {}
  },
  {
   "cell_type": "code",
   "execution_count": null,
   "source": [
    "result = bionetgen.run(\"SIR.bngl\", out = \"SIR_folder\")"
   ],
   "outputs": [],
   "metadata": {}
  },
  {
   "cell_type": "markdown",
   "source": [
    "To view the resulting gdat record array of the model, use the `gdat` attribute:"
   ],
   "metadata": {}
  },
  {
   "cell_type": "code",
   "execution_count": null,
   "source": [
    "result.gdats[\"SIR\"][:10]"
   ],
   "outputs": [],
   "metadata": {}
  },
  {
   "cell_type": "markdown",
   "source": [
    "Alternatively, you can use the index of the `result` object to get the gdat values:"
   ],
   "metadata": {}
  },
  {
   "cell_type": "code",
   "execution_count": null,
   "source": [
    "result[0][:10]"
   ],
   "outputs": [],
   "metadata": {}
  },
  {
   "cell_type": "markdown",
   "source": [
    "Similarly, to view the resulting cdat record array of the model, use the `cdat` attribute:"
   ],
   "metadata": {}
  },
  {
   "cell_type": "code",
   "execution_count": null,
   "source": [
    "result.cdats[\"SIR\"][:10]"
   ],
   "outputs": [],
   "metadata": {}
  },
  {
   "cell_type": "markdown",
   "source": [
    "## Plotting Results"
   ],
   "metadata": {}
  },
  {
   "cell_type": "markdown",
   "source": [
    "To plot the gdat record array, matplotlib will be needed:"
   ],
   "metadata": {}
  },
  {
   "cell_type": "code",
   "execution_count": null,
   "source": [
    "import matplotlib.pyplot as plt"
   ],
   "outputs": [],
   "metadata": {}
  },
  {
   "cell_type": "markdown",
   "source": [
    "For accessibility, save the gdat record array as its own object. Then, the values can be plotted."
   ],
   "metadata": {}
  },
  {
   "cell_type": "code",
   "execution_count": null,
   "source": [
    "r = result[0]\r\n",
    "\r\n",
    "for name in r.dtype.names:\r\n",
    "    if name != \"time\":\r\n",
    "        plt.plot(r['time'], r[name], label = name)\r\n",
    "plt.xlabel(\"time\")\r\n",
    "plt.ylabel(\"species (counts)\")\r\n",
    "_ = plt.legend(frameon = False)"
   ],
   "outputs": [],
   "metadata": {}
  }
 ],
 "metadata": {
  "orig_nbformat": 4,
  "language_info": {
   "name": "python",
   "version": "3.9.6",
   "mimetype": "text/x-python",
   "codemirror_mode": {
    "name": "ipython",
    "version": 3
   },
   "pygments_lexer": "ipython3",
   "nbconvert_exporter": "python",
   "file_extension": ".py"
  },
  "kernelspec": {
   "name": "python3",
   "display_name": "Python 3.9.6 64-bit"
  },
  "interpreter": {
   "hash": "6bba631cc0264899f23e4fbc56f7f77a55083f26c9c701f823877dba3aa5a922"
  }
 },
 "nbformat": 4,
 "nbformat_minor": 2
}