{
 "cells": [
  {
   "cell_type": "markdown",
   "source": [
    "# Library Tutorial - Running and Plotting"
   ],
   "metadata": {}
  },
  {
   "cell_type": "markdown",
   "source": [
    "This tutorial shows show to use PyBioNetGen's library to run a simple BNGL model and plot the results, using the simple \"SIR.bngl\" model."
   ],
   "metadata": {}
  },
  {
   "cell_type": "markdown",
   "source": [
    "Before using the library, it must be imported."
   ],
   "metadata": {}
  },
  {
   "cell_type": "code",
   "execution_count": 1,
   "source": [
    "import bionetgen"
   ],
   "outputs": [],
   "metadata": {}
  },
  {
   "cell_type": "markdown",
   "source": [
    "## Running a Model"
   ],
   "metadata": {}
  },
  {
   "cell_type": "markdown",
   "source": [
    "The `run` method can be used to simply run a BNGL model."
   ],
   "metadata": {}
  },
  {
   "cell_type": "code",
   "execution_count": 2,
   "source": [
    "result = bionetgen.run(\"SIR.bngl\")"
   ],
   "outputs": [
    {
     "output_type": "stream",
     "name": "stdout",
     "text": [
      "BioNetGen version 2.6.0\n",
      "Reading from file c:\\Users\\cjarm\\Documentation\\PyBioNetGen\\docs\\source\\tutorials\\SIR.bngl (level 0)\n",
      "Read 5 parameters.\n",
      "Read 2 species.\n",
      "Read 3 observable(s).\n",
      "Read 2 reaction rule(s).\n",
      "ACTION: generate_network( SIR )\n",
      "Iteration   0:     2 species      0 rxns  0.00e+00 CPU s\n",
      "Iteration   1:     3 species      2 rxns  0.00e+00 CPU s\n",
      "Iteration   2:     3 species      2 rxns  0.00e+00 CPU s\n",
      "Cumulative CPU time for each rule\n",
      "Rule   1:     1 reactions 0.00e+00 CPU s 0.00e+00 CPU s/rxn\n",
      "Rule   2:     1 reactions 0.00e+00 CPU s 0.00e+00 CPU s/rxn\n",
      "Total   :     2 reactions 0.00e+00 CPU s 0.00e+00 CPU s/rxn\n",
      "Wrote network in net format to SIR.net.\n",
      "CPU TIME: generate_network 0.00 s.\n",
      "ACTION: simulate( method=>\"cvode\" )\n",
      "Network simulation using cvode\n",
      "WARNING: writeFile(): Overwriting existing file SIR.net.\n",
      "Wrote network in net format to SIR.net.\n",
      "Running run_network on DESKTOP-CKHAV0T\n",
      "full command: C:\\Users\\cjarm\\AppData\\Local\\Programs\\Python\\Python39\\lib\\site-packages\\bionetgen\\bng-win\\bin\\run_network.exe -o SIR -p cvode -a 1e-08 -r 1e-08 --cdat 1 --fdat 0 -g SIR.net SIR.net 0.15 200\n",
      "[simulation PID is: 24204]\n",
      "run_network 3.0\n",
      "Read 6 parameters from SIR.net\n",
      "Read 3 species from SIR.net\n",
      "Read 3 group(s) from SIR.net\n",
      "Read 0 function(s) from SIR.net\n",
      "Read 2 reaction(s) from SIR.net\n",
      "2 reaction(s) have nonzero rate\n",
      "Initialization took 0.03 CPU seconds\n",
      "Propagating with cvode using dense LU\n",
      "Time course of concentrations written to file SIR.cdat.\n",
      "Time course of groups written to file SIR.gdat.\n",
      "Propagation took 1.50e-02 CPU seconds\n",
      "Program times:  0.05 CPU s 0.00 clock s\n",
      "Updating species concentrations from SIR.cdat\n",
      "CPU TIME: simulate 0.00 s.\n",
      "Finished processing file c:\\Users\\cjarm\\Documentation\\PyBioNetGen\\docs\\source\\tutorials\\SIR.bngl.\n",
      "CPU TIME: total 0.01 s.\n"
     ]
    }
   ],
   "metadata": {}
  },
  {
   "cell_type": "markdown",
   "source": [
    "Optionally, the results can be saved in a new or existing folder."
   ],
   "metadata": {}
  },
  {
   "cell_type": "code",
   "execution_count": 3,
   "source": [
    "result = bionetgen.run(\"SIR.bngl\", out = \"SIR_folder\")"
   ],
   "outputs": [
    {
     "output_type": "stream",
     "name": "stdout",
     "text": [
      "BioNetGen version 2.6.0\n",
      "Reading from file c:\\Users\\cjarm\\Documentation\\PyBioNetGen\\docs\\source\\tutorials\\SIR.bngl (level 0)\n",
      "Read 5 parameters.\n",
      "Read 2 species.\n",
      "Read 3 observable(s).\n",
      "Read 2 reaction rule(s).\n",
      "ACTION: generate_network( SIR )\n",
      "Iteration   0:     2 species      0 rxns  0.00e+00 CPU s\n",
      "Iteration   1:     3 species      2 rxns  0.00e+00 CPU s\n",
      "Iteration   2:     3 species      2 rxns  0.00e+00 CPU s\n",
      "Cumulative CPU time for each rule\n",
      "Rule   1:     1 reactions 0.00e+00 CPU s 0.00e+00 CPU s/rxn\n",
      "Rule   2:     1 reactions 0.00e+00 CPU s 0.00e+00 CPU s/rxn\n",
      "Total   :     2 reactions 0.00e+00 CPU s 0.00e+00 CPU s/rxn\n",
      "Wrote network in net format to SIR.net.\n",
      "CPU TIME: generate_network 0.00 s.\n",
      "ACTION: simulate( method=>\"cvode\" )\n",
      "Network simulation using cvode\n",
      "WARNING: writeFile(): Overwriting existing file SIR.net.\n",
      "Wrote network in net format to SIR.net.\n",
      "Running run_network on DESKTOP-CKHAV0T\n",
      "full command: C:\\Users\\cjarm\\AppData\\Local\\Programs\\Python\\Python39\\lib\\site-packages\\bionetgen\\bng-win\\bin\\run_network.exe -o SIR -p cvode -a 1e-08 -r 1e-08 --cdat 1 --fdat 0 -g SIR.net SIR.net 0.15 200\n",
      "[simulation PID is: 25604]\n",
      "run_network 3.0\n",
      "Read 6 parameters from SIR.net\n",
      "Read 3 species from SIR.net\n",
      "Read 3 group(s) from SIR.net\n",
      "Read 0 function(s) from SIR.net\n",
      "Read 2 reaction(s) from SIR.net\n",
      "2 reaction(s) have nonzero rate\n",
      "Initialization took 0.01 CPU seconds\n",
      "Propagating with cvode using dense LU\n",
      "Time course of concentrations written to file SIR.cdat.\n",
      "Time course of groups written to file SIR.gdat.\n",
      "Propagation took 1.50e-02 CPU seconds\n",
      "Program times:  0.03 CPU s 1.00 clock s\n",
      "Updating species concentrations from SIR.cdat\n",
      "CPU TIME: simulate 0.02 s.\n",
      "Finished processing file c:\\Users\\cjarm\\Documentation\\PyBioNetGen\\docs\\source\\tutorials\\SIR.bngl.\n",
      "CPU TIME: total 0.02 s.\n"
     ]
    }
   ],
   "metadata": {}
  },
  {
   "cell_type": "markdown",
   "source": [
    "To view the resulting gdat record array of the model, use the `gdat` attribute:"
   ],
   "metadata": {}
  },
  {
   "cell_type": "code",
   "execution_count": 4,
   "source": [
    "result.gdats[\"SIR\"][:10]"
   ],
   "outputs": [
    {
     "output_type": "execute_result",
     "data": {
      "text/plain": [
       "rec.array([(0.  , 99.        , 1.        , 0.        ),\n",
       "           (0.15, 98.87298897, 1.07566049, 0.05135054),\n",
       "           (0.3 , 98.7365611 , 1.15685706, 0.10658185),\n",
       "           (0.45, 98.59005797, 1.24396498, 0.16597704),\n",
       "           (0.6 , 98.43278098, 1.33738054, 0.22983849),\n",
       "           (0.75, 98.26399011, 1.4375212 , 0.2984887 ),\n",
       "           (0.9 , 98.08290282, 1.54482586, 0.37227132),\n",
       "           (1.05, 97.8886927 , 1.65975502, 0.45155228),\n",
       "           (1.2 , 97.68048848, 1.78279067, 0.53672085),\n",
       "           (1.35, 97.45737335, 1.91443598, 0.62819067)],\n",
       "          dtype=[('time', '<f8'), ('S', '<f8'), ('I', '<f8'), ('R', '<f8')])"
      ]
     },
     "metadata": {},
     "execution_count": 4
    }
   ],
   "metadata": {}
  },
  {
   "cell_type": "markdown",
   "source": [
    "Alternatively, you can use the index of the `result` object to get the gdat values:"
   ],
   "metadata": {}
  },
  {
   "cell_type": "code",
   "execution_count": 12,
   "source": [
    "result[0][:10]"
   ],
   "outputs": [
    {
     "output_type": "error",
     "ename": "IndexError",
     "evalue": "list index out of range",
     "traceback": [
      "\u001b[1;31m---------------------------------------------------------------------------\u001b[0m",
      "\u001b[1;31mIndexError\u001b[0m                                Traceback (most recent call last)",
      "\u001b[1;32m~\\AppData\\Local\\Temp/ipykernel_27840/1432673886.py\u001b[0m in \u001b[0;36m<module>\u001b[1;34m\u001b[0m\n\u001b[1;32m----> 1\u001b[1;33m \u001b[0mresult\u001b[0m\u001b[1;33m[\u001b[0m\u001b[1;36m1\u001b[0m\u001b[1;33m]\u001b[0m\u001b[1;33m[\u001b[0m\u001b[1;33m:\u001b[0m\u001b[1;36m10\u001b[0m\u001b[1;33m]\u001b[0m\u001b[1;33m\u001b[0m\u001b[1;33m\u001b[0m\u001b[0m\n\u001b[0m",
      "\u001b[1;32m~\\AppData\\Local\\Programs\\Python\\Python39\\lib\\site-packages\\bionetgen\\core\\result.py\u001b[0m in \u001b[0;36m__getitem__\u001b[1;34m(self, key)\u001b[0m\n\u001b[0;32m     69\u001b[0m     \u001b[1;32mdef\u001b[0m \u001b[0m__getitem__\u001b[0m\u001b[1;33m(\u001b[0m\u001b[0mself\u001b[0m\u001b[1;33m,\u001b[0m \u001b[0mkey\u001b[0m\u001b[1;33m)\u001b[0m\u001b[1;33m:\u001b[0m\u001b[1;33m\u001b[0m\u001b[1;33m\u001b[0m\u001b[0m\n\u001b[0;32m     70\u001b[0m         \u001b[1;32mif\u001b[0m \u001b[0misinstance\u001b[0m\u001b[1;33m(\u001b[0m\u001b[0mkey\u001b[0m\u001b[1;33m,\u001b[0m \u001b[0mint\u001b[0m\u001b[1;33m)\u001b[0m\u001b[1;33m:\u001b[0m\u001b[1;33m\u001b[0m\u001b[1;33m\u001b[0m\u001b[0m\n\u001b[1;32m---> 71\u001b[1;33m             \u001b[0mk\u001b[0m \u001b[1;33m=\u001b[0m \u001b[0mlist\u001b[0m\u001b[1;33m(\u001b[0m\u001b[0mself\u001b[0m\u001b[1;33m.\u001b[0m\u001b[0mgdats\u001b[0m\u001b[1;33m.\u001b[0m\u001b[0mkeys\u001b[0m\u001b[1;33m(\u001b[0m\u001b[1;33m)\u001b[0m\u001b[1;33m)\u001b[0m\u001b[1;33m[\u001b[0m\u001b[0mkey\u001b[0m\u001b[1;33m]\u001b[0m\u001b[1;33m\u001b[0m\u001b[1;33m\u001b[0m\u001b[0m\n\u001b[0m\u001b[0;32m     72\u001b[0m             \u001b[0mit\u001b[0m \u001b[1;33m=\u001b[0m \u001b[0mself\u001b[0m\u001b[1;33m.\u001b[0m\u001b[0mgdats\u001b[0m\u001b[1;33m[\u001b[0m\u001b[0mk\u001b[0m\u001b[1;33m]\u001b[0m\u001b[1;33m\u001b[0m\u001b[1;33m\u001b[0m\u001b[0m\n\u001b[0;32m     73\u001b[0m         \u001b[1;32melse\u001b[0m\u001b[1;33m:\u001b[0m\u001b[1;33m\u001b[0m\u001b[1;33m\u001b[0m\u001b[0m\n",
      "\u001b[1;31mIndexError\u001b[0m: list index out of range"
     ]
    }
   ],
   "metadata": {}
  },
  {
   "cell_type": "markdown",
   "source": [
    "Similarly, to view the resulting cdat record array of the model, use the `cdat` attribute:"
   ],
   "metadata": {}
  },
  {
   "cell_type": "code",
   "execution_count": 5,
   "source": [
    "result.cdats[\"SIR\"][:10]"
   ],
   "outputs": [
    {
     "output_type": "execute_result",
     "data": {
      "text/plain": [
       "rec.array([(0.  , 99.        , 1.        , 0.        ),\n",
       "           (0.15, 98.87298897, 1.07566049, 0.05135054),\n",
       "           (0.3 , 98.7365611 , 1.15685706, 0.10658185),\n",
       "           (0.45, 98.59005797, 1.24396498, 0.16597704),\n",
       "           (0.6 , 98.43278098, 1.33738054, 0.22983849),\n",
       "           (0.75, 98.26399011, 1.4375212 , 0.2984887 ),\n",
       "           (0.9 , 98.08290282, 1.54482586, 0.37227132),\n",
       "           (1.05, 97.8886927 , 1.65975502, 0.45155228),\n",
       "           (1.2 , 97.68048848, 1.78279067, 0.53672085),\n",
       "           (1.35, 97.45737335, 1.91443598, 0.62819067)],\n",
       "          dtype=[('time', '<f8'), ('S1', '<f8'), ('S2', '<f8'), ('S3', '<f8')])"
      ]
     },
     "metadata": {},
     "execution_count": 5
    }
   ],
   "metadata": {}
  },
  {
   "cell_type": "markdown",
   "source": [
    "## Plotting Results"
   ],
   "metadata": {}
  },
  {
   "cell_type": "markdown",
   "source": [
    "To plot the gdat record array, matplotlib will be needed:"
   ],
   "metadata": {}
  },
  {
   "cell_type": "code",
   "execution_count": 6,
   "source": [
    "import matplotlib.pyplot as plt"
   ],
   "outputs": [],
   "metadata": {}
  },
  {
   "cell_type": "markdown",
   "source": [
    "For accessibility, save the gdat record array as its own object. Then, the values can be plotted."
   ],
   "metadata": {}
  },
  {
   "cell_type": "code",
   "execution_count": 10,
   "source": [
    "r = result[0]\r\n",
    "\r\n",
    "for name in r.dtype.names:\r\n",
    "    if name != \"time\":\r\n",
    "        plt.plot(r['time'], r[name], label = name)\r\n",
    "plt.xlabel(\"time\")\r\n",
    "plt.ylabel(\"species (counts)\")\r\n",
    "_ = plt.legend(frameon = False)"
   ],
   "outputs": [
    {
     "output_type": "display_data",
     "data": {
      "text/plain": [
       "<Figure size 432x288 with 1 Axes>"
      ],
      "image/png": "[encoded data removed]"
     },
     "metadata": {
      "needs_background": "light"
     }
    }
   ],
   "metadata": {}
  }
 ],
 "metadata": {
  "orig_nbformat": 4,
  "language_info": {
   "name": "python",
   "version": "3.9.6",
   "mimetype": "text/x-python",
   "codemirror_mode": {
    "name": "ipython",
    "version": 3
   },
   "pygments_lexer": "ipython3",
   "nbconvert_exporter": "python",
   "file_extension": ".py"
  },
  "kernelspec": {
   "name": "python3",
   "display_name": "Python 3.9.6 64-bit"
  },
  "interpreter": {
   "hash": "6bba631cc0264899f23e4fbc56f7f77a55083f26c9c701f823877dba3aa5a922"
  }
 },
 "nbformat": 4,
 "nbformat_minor": 2
}